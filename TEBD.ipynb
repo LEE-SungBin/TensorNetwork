{
 "cells": [
  {
   "cell_type": "code",
   "execution_count": 1,
   "metadata": {},
   "outputs": [],
   "source": [
    "import numpy as np\n",
    "import numpy.typing as npt\n",
    "from Tensors import Qubit, Tensor, MPS\n",
    "# import opt_einsum"
   ]
  },
  {
   "cell_type": "code",
   "execution_count": 2,
   "metadata": {},
   "outputs": [
    {
     "name": "stdout",
     "output_type": "stream",
     "text": [
      "['einsum_path', (0, 4), (0, 1, 2, 3)]\n",
      "  Complete contraction:  ijk,ilm,njm,nlk,abc->\n",
      "         Naive scaling:  9\n",
      "     Optimized scaling:  6\n",
      "      Naive FLOP count:  5.788e+06\n",
      "  Optimized FLOP count:  6.615e+04\n",
      "   Theoretical speedup:  87.499\n",
      "  Largest intermediate:  1.050e+02 elements\n",
      "--------------------------------------------------------------------------\n",
      "scaling                  current                                remaining\n",
      "--------------------------------------------------------------------------\n",
      "   6                abc,ijk->ijk                        ilm,njm,nlk,ijk->\n",
      "   6           ijk,nlk,njm,ilm->                                       ->\n"
     ]
    }
   ],
   "source": [
    "a = np.random.rand(3, 5, 7)\n",
    "\n",
    "path = np.einsum_path('ijk,ilm,njm,nlk,abc->',a,a,a,a,a, optimize='optimal')\n",
    "optimize, info = path[0], path[1]\n",
    "\n",
    "print(optimize)\n",
    "print(info)"
   ]
  },
  {
   "cell_type": "code",
   "execution_count": 3,
   "metadata": {},
   "outputs": [],
   "source": [
    "# %timeit np.einsum('ijk,ilm,njm,nlk,abc->', a,a,a,a,a)\n",
    "# %timeit np.einsum('ijk,ilm,njm,nlk,abc->', a,a,a,a,a, optimize=True)\n",
    "# %timeit np.einsum('ijk,ilm,njm,nlk,abc->', a,a,a,a,a, optimize='optimal')\n",
    "# %timeit np.einsum('ijk,ilm,njm,nlk,abc->', a,a,a,a,a, optimize='greedy')\n",
    "# %timeit np.einsum('ijk,ilm,njm,nlk,abc->', a,a,a,a,a, optimize=optimize)"
   ]
  },
  {
   "cell_type": "code",
   "execution_count": 4,
   "metadata": {},
   "outputs": [],
   "source": [
    "# A = np.random.rand(111, 112, 113)\n",
    "# B = np.random.rand(113, 112, 100)\n",
    "\n",
    "# path = np.einsum_path(\"ijk,kjl->il\", A, B, optimize=True)\n",
    "# optimize, info = path[0], path[1]\n",
    "\n",
    "# %timeit np.einsum(\"ijk,kjl->il\", A, B, optimize=True)\n",
    "# %timeit np.einsum(\"ijk,kjl->il\", A, B, optimize=optimize)\n",
    "# %timeit np.tensordot(A, B, axes=[(1, 2), (1, 0)])"
   ]
  },
  {
   "cell_type": "code",
   "execution_count": 5,
   "metadata": {},
   "outputs": [],
   "source": [
    "# A = np.random.rand(3, 5, 2, 7)\n",
    "# B = np.random.rand(11, 5, 13, 2)\n",
    "\n",
    "# print(np.tensordot(A, B, axes=[(1, 2), (1, 3)]).shape)"
   ]
  },
  {
   "cell_type": "code",
   "execution_count": 16,
   "metadata": {},
   "outputs": [
    {
     "name": "stdout",
     "output_type": "stream",
     "text": [
      "[1.+0.j 0.+0.j]\n"
     ]
    }
   ],
   "source": [
    "N = 2\n",
    "thetas, phis = [0.0 for _ in range(N)], [0.0 for _ in range(N)]\n",
    "\n",
    "qubit = Qubit(thetas=thetas, phis=phis)\n",
    "print(qubit.qubits[0])"
   ]
  },
  {
   "cell_type": "code",
   "execution_count": 4,
   "metadata": {},
   "outputs": [
    {
     "name": "stdout",
     "output_type": "stream",
     "text": [
      "qubits = [array([1.+0.j, 0.+0.j]), array([1.+0.j, 0.+0.j])]\n",
      "Tensor shape = (2, 2)\n",
      "Tensor = [1.+0.j 0.+0.j 0.+0.j 0.+0.j]\n",
      "qubits = [array([1.+0.j, 0.+0.j]), array([1.+0.j, 0.+0.j])]\n",
      "MPS 0 shape = (1, 2, 1)\n",
      "MPS 1 shape = (1, 2, 1)\n",
      "MPS = [array([[[1.+0.j],\n",
      "        [0.+0.j]]]), array([[[1.+0.j],\n",
      "        [0.+0.j]]])]\n"
     ]
    }
   ],
   "source": [
    "tensor = Tensor(qubit)\n",
    "mps = MPS(qubit, max_bond=4)"
   ]
  },
  {
   "cell_type": "code",
   "execution_count": 17,
   "metadata": {},
   "outputs": [
    {
     "data": {
      "text/plain": [
       "array([[1.+0.j, 0.+0.j],\n",
       "       [0.+0.j, 0.+0.j]])"
      ]
     },
     "execution_count": 17,
     "metadata": {},
     "output_type": "execute_result"
    }
   ],
   "source": [
    "tensor.tensor"
   ]
  },
  {
   "cell_type": "code",
   "execution_count": 15,
   "metadata": {},
   "outputs": [
    {
     "data": {
      "text/plain": [
       "array([[[1.+0.j],\n",
       "        [0.+0.j]]])"
      ]
     },
     "execution_count": 15,
     "metadata": {},
     "output_type": "execute_result"
    }
   ],
   "source": [
    "mps.MPS[0][:,:,:]"
   ]
  },
  {
   "cell_type": "code",
   "execution_count": 8,
   "metadata": {},
   "outputs": [
    {
     "name": "stdout",
     "output_type": "stream",
     "text": [
      "i=0 (1, 2, 1)\n",
      "i=1 (1, 2, 1)\n",
      "1.0\n"
     ]
    }
   ],
   "source": [
    "print(Tensor.get_fidelity(tensor.tensor, mps.MPS))"
   ]
  },
  {
   "cell_type": "code",
   "execution_count": 18,
   "metadata": {},
   "outputs": [
    {
     "name": "stdout",
     "output_type": "stream",
     "text": [
      "MPS 0 shape = (1, 2, 1)\n",
      "MPS 1 shape = (1, 2, 1)\n",
      "[0.70710678+0.j 0.        +0.j 0.70710678+0.j 0.        +0.j]\n",
      "[array([[[0.70710678+0.j],\n",
      "        [0.70710678+0.j]]]), array([[[1.+0.j],\n",
      "        [0.+0.j]]])]\n",
      "i=0 (1, 2, 1)\n",
      "i=1 (1, 2, 1)\n",
      "0.9999999999999996\n"
     ]
    }
   ],
   "source": [
    "tensor.apply_single_gate([\"H\"] + [\"I\" for _ in range(N - 1)])\n",
    "mps.apply_single_gate([\"H\"] + [\"I\" for _ in range(N - 1)])\n",
    "print(tensor.tensor.reshape(-1))\n",
    "print(mps.MPS)\n",
    "print(Tensor.get_fidelity(tensor.tensor, mps.MPS))"
   ]
  },
  {
   "cell_type": "code",
   "execution_count": 24,
   "metadata": {},
   "outputs": [
    {
     "name": "stdout",
     "output_type": "stream",
     "text": [
      "[[0.70710678+0.j 0.        +0.j]\n",
      " [0.70710678+0.j 0.        +0.j]]\n",
      "[[[0.70710678+0.j]\n",
      "  [0.70710678+0.j]]]\n",
      "[[[1.+0.j]\n",
      "  [0.+0.j]]]\n"
     ]
    }
   ],
   "source": [
    "print(tensor.tensor)\n",
    "print(mps.MPS[0])\n",
    "print(mps.MPS[1])"
   ]
  },
  {
   "cell_type": "code",
   "execution_count": 25,
   "metadata": {},
   "outputs": [
    {
     "name": "stdout",
     "output_type": "stream",
     "text": [
      "MPS 0 shape = (1, 2, 2)\n",
      "MPS 1 shape = (2, 2, 1)\n"
     ]
    }
   ],
   "source": [
    "tensor.apply_two_qubit_gate(gates=[\"cx\" for _ in range(N-1)], controls=[i for i in range(N-1)], acts=[i+1 for i in range(N-1)])\n",
    "mps.apply_two_qubit_gate(gates=[\"cx\" for _ in range(N-1)], controls=[i for i in range(N-1)], acts=[i+1 for i in range(N-1)])"
   ]
  },
  {
   "cell_type": "code",
   "execution_count": 30,
   "metadata": {},
   "outputs": [
    {
     "name": "stdout",
     "output_type": "stream",
     "text": [
      "[0.70710678+0.j 0.        +0.j 0.        +0.j 0.70710678+0.j]\n",
      "[[[0.84089642+0.j 0.        +0.j]\n",
      "  [0.        +0.j 0.84089642+0.j]]]\n",
      "[[[0.84089642+0.j]\n",
      "  [0.        +0.j]]\n",
      "\n",
      " [[0.        +0.j]\n",
      "  [0.84089642+0.j]]]\n"
     ]
    }
   ],
   "source": [
    "print(tensor.tensor.reshape(-1))\n",
    "print(mps.MPS[0])\n",
    "print(mps.MPS[1])"
   ]
  },
  {
   "cell_type": "code",
   "execution_count": 28,
   "metadata": {},
   "outputs": [
    {
     "name": "stdout",
     "output_type": "stream",
     "text": [
      "i=0 (1, 2, 2)\n",
      "i=1 (2, 2, 1)\n",
      "[[0.70710678+0.j 0.        +0.j]\n",
      " [0.        +0.j 0.70710678+0.j]]\n"
     ]
    }
   ],
   "source": [
    "from Tensors import Quantum_State\n",
    "print(Quantum_State.MPS_to_tensor(mps.MPS))"
   ]
  },
  {
   "cell_type": "code",
   "execution_count": null,
   "metadata": {},
   "outputs": [
    {
     "name": "stdout",
     "output_type": "stream",
     "text": [
      "[0.70710678+0.j 0.        +0.j 0.70710678+0.j 0.        +0.j]\n",
      "i=0 (1, 2, 2)\n",
      "i=1 (2, 2, 1)\n",
      "0.9999999999999996\n"
     ]
    }
   ],
   "source": [
    "tensor.apply_two_qubit_gate(gates=[\"cx\" for _ in range(N-1)], controls=[N - i - 2 for i in range(N-1)], acts=[N - i - 1 for i in range(N-1)])\n",
    "TN.apply_two_qubit_gate(gates=[\"cx\" for _ in range(N-1)], controls=[N - i - 2 for i in range(N-1)], acts=[N - i - 1 for i in range(N-1)])\n",
    "print(tensor.tensor.reshape(-1))\n",
    "print(Tensor.get_fidelity(tensor.tensor, TN.MPS))"
   ]
  },
  {
   "cell_type": "code",
   "execution_count": null,
   "metadata": {},
   "outputs": [],
   "source": [
    "# import numpy as np\n",
    "# A, B = np.random.rand(2,2), np.random.rand(2,2)\n",
    "# print(A, B)"
   ]
  },
  {
   "cell_type": "code",
   "execution_count": null,
   "metadata": {},
   "outputs": [],
   "source": [
    "# C = np.tensordot(A, B, 0)\n",
    "\n",
    "# state = np.array([\n",
    "#     [1.0, 0.0],\n",
    "#     [0.0, 1.0]\n",
    "# ])\n",
    "\n",
    "# lin_state = np.array([1.0, 0.0, 0.0, 1.0])\n",
    "\n",
    "# print(np.einsum(\"ai,bj,ij->ab\", A, B, state))\n",
    "# print(np.tensordot(C, state, axes=[(1,3),(0,1)]))"
   ]
  },
  {
   "cell_type": "code",
   "execution_count": null,
   "metadata": {},
   "outputs": [],
   "source": [
    "# CX_gate = np.array([\n",
    "#             [1.0, 0.0, 0.0, 0.0],\n",
    "#             [0.0, 1.0, 0.0, 0.0],\n",
    "#             [0.0, 0.0, 0.0, 1.0],\n",
    "#             [0.0, 0.0, 1.0, 0.0]\n",
    "#         ])\n",
    "\n",
    "# print(CX_gate)\n",
    "# print(CX_gate.reshape(2,2,2,2))\n",
    "\n",
    "# theta1, phi1 = 1, 2\n",
    "# theta2, phi2 = 1, 3\n",
    "\n",
    "# two_qubit = np.tensordot(np.array([\n",
    "#                 np.cos(theta1/2), np.exp(phi1*1j)*np.sin(theta1/2)\n",
    "#             ]), np.array([\n",
    "#                 np.cos(theta2/2), np.exp(phi2*1j)*np.sin(theta2/2)\n",
    "#             ]), 0)\n",
    "\n",
    "# print(two_qubit)\n",
    "# print(two_qubit.reshape(-1))\n",
    "\n",
    "# print(np.tensordot(CX_gate, two_qubit.reshape(-1), axes=1))\n",
    "# print(np.tensordot(CX_gate.reshape(2,2,2,2), two_qubit, axes=[(2,3),(0,1)]).reshape(-1))"
   ]
  },
  {
   "cell_type": "code",
   "execution_count": null,
   "metadata": {},
   "outputs": [],
   "source": []
  }
 ],
 "metadata": {
  "kernelspec": {
   "display_name": "tenpy",
   "language": "python",
   "name": "python3"
  },
  "language_info": {
   "codemirror_mode": {
    "name": "ipython",
    "version": 3
   },
   "file_extension": ".py",
   "mimetype": "text/x-python",
   "name": "python",
   "nbconvert_exporter": "python",
   "pygments_lexer": "ipython3",
   "version": "3.11.4"
  },
  "orig_nbformat": 4
 },
 "nbformat": 4,
 "nbformat_minor": 2
}
