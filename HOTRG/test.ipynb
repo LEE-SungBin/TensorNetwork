{
 "cells": [
  {
   "cell_type": "code",
   "execution_count": 1,
   "metadata": {},
   "outputs": [],
   "source": [
    "import numpy as np\n",
    "\n",
    "state = 3\n",
    "\n",
    "theta = np.array([i/state*2*np.pi for i in range(state)])\n",
    "\n",
    "moment = np.array([np.exp(angle*1j) for angle in theta])"
   ]
  },
  {
   "cell_type": "code",
   "execution_count": 2,
   "metadata": {},
   "outputs": [
    {
     "name": "stdout",
     "output_type": "stream",
     "text": [
      "[ 1. +0.j        -0.5+0.8660254j -0.5-0.8660254j]\n",
      "[ 1. +0.j        -0.5-0.8660254j -0.5+0.8660254j]\n"
     ]
    }
   ],
   "source": [
    "print(moment)\n",
    "print(moment**2)"
   ]
  },
  {
   "cell_type": "code",
   "execution_count": 3,
   "metadata": {},
   "outputs": [
    {
     "name": "stdout",
     "output_type": "stream",
     "text": [
      "[[1.+1.j 2.+1.j]\n",
      " [2.+2.j 4.+2.j]]\n"
     ]
    }
   ],
   "source": [
    "a = np.array([1.0, 2.0])\n",
    "b = np.array([1.0+1.0j, 2.0+1.0j])\n",
    "\n",
    "print(np.einsum(\"i,j->ij\",a,b))"
   ]
  },
  {
   "cell_type": "code",
   "execution_count": 4,
   "metadata": {},
   "outputs": [],
   "source": [
    "import numpy as np\n",
    "import numpy.typing as npt\n",
    "\n",
    "def efficient_einsum(\n",
    "    T1: npt.NDArray[np.float64],\n",
    "    T2: npt.NDArray[np.float64 | np.complex128],\n",
    "    T3: npt.NDArray[np.float64],\n",
    "    T4: npt.NDArray[np.float64 | np.complex128],\n",
    "    mode: str,\n",
    ") -> npt.NDArray[np.complex128]:\n",
    "\n",
    "    if mode == \"UD\":\n",
    "        left = np.einsum(\"iae,ejgb->ijgba\", T1, T2, optimize=True)\n",
    "        right = np.einsum(\"cgk,abcl->abgkl\", T3, T4, optimize=True)\n",
    "\n",
    "        return np.einsum(\"ijgba,abgkl->ijkl\", left, right, optimize=True)\n",
    "\n",
    "    elif mode == \"LR\":\n",
    "        up = np.einsum(\"ldg,ibcd->libcg\", T1, T2, optimize=True)\n",
    "        down = np.einsum(\"bej,cekg->bcgkj\", T3, T4, optimize=True)\n",
    "\n",
    "        return np.einsum(\"libcg,bcgkj->ijkl\", up, down, optimize=True)"
   ]
  },
  {
   "cell_type": "code",
   "execution_count": 5,
   "metadata": {},
   "outputs": [],
   "source": [
    "size = 8\n",
    "\n",
    "trunc_U, trunc_U_T = np.random.rand(size,size,size), np.random.rand(size,size,size)\n",
    "pure, first_order = np.random.rand(size,size,size,size), np.random.rand(size,size,size,size)"
   ]
  },
  {
   "cell_type": "code",
   "execution_count": 6,
   "metadata": {},
   "outputs": [],
   "source": [
    "%timeit np.einsum(\"ldg,ibcd,bej,cekg->ijkl\", trunc_U_T, first_order, trunc_U, pure, optimize=True)"
   ]
  },
  {
   "cell_type": "code",
   "execution_count": null,
   "metadata": {},
   "outputs": [
    {
     "name": "stdout",
     "output_type": "stream",
     "text": [
      "565 µs ± 68.5 µs per loop (mean ± std. dev. of 7 runs, 1,000 loops each)\n"
     ]
    }
   ],
   "source": [
    "%timeit efficient_einsum(trunc_U_T, first_order, trunc_U, pure, mode=\"LR\")"
   ]
  },
  {
   "cell_type": "code",
   "execution_count": null,
   "metadata": {},
   "outputs": [
    {
     "name": "stdout",
     "output_type": "stream",
     "text": [
      "True\n"
     ]
    }
   ],
   "source": [
    "print(np.allclose(\n",
    "    np.einsum(\"ldg,ibcd,bej,cekg->ijkl\", trunc_U_T, first_order, trunc_U, pure, optimize=True),\n",
    "    efficient_einsum(trunc_U_T, first_order, trunc_U, pure, mode=\"LR\")\n",
    "))"
   ]
  },
  {
   "cell_type": "code",
   "execution_count": null,
   "metadata": {},
   "outputs": [
    {
     "name": "stdout",
     "output_type": "stream",
     "text": [
      "870 ms ± 11.1 ms per loop (mean ± std. dev. of 7 runs, 1 loop each)\n"
     ]
    }
   ],
   "source": [
    "%timeit np.einsum(\"iae,ejgb,cgk,abcl->ijkl\", trunc_U_T, first_order, trunc_U, pure, optimize=True)"
   ]
  },
  {
   "cell_type": "code",
   "execution_count": null,
   "metadata": {},
   "outputs": [
    {
     "name": "stdout",
     "output_type": "stream",
     "text": [
      "605 µs ± 70.7 µs per loop (mean ± std. dev. of 7 runs, 1,000 loops each)\n"
     ]
    }
   ],
   "source": [
    "%timeit efficient_einsum(trunc_U_T, first_order, trunc_U, pure, mode=\"UD\")"
   ]
  },
  {
   "cell_type": "code",
   "execution_count": null,
   "metadata": {},
   "outputs": [
    {
     "name": "stdout",
     "output_type": "stream",
     "text": [
      "True\n"
     ]
    }
   ],
   "source": [
    "print(np.allclose(\n",
    "    np.einsum(\"iae,ejgb,cgk,abcl->ijkl\", trunc_U_T, first_order, trunc_U, pure, optimize=True),\n",
    "    efficient_einsum(trunc_U_T, first_order, trunc_U, pure, mode=\"UD\")\n",
    "))"
   ]
  },
  {
   "cell_type": "code",
   "execution_count": null,
   "metadata": {},
   "outputs": [
    {
     "name": "stdout",
     "output_type": "stream",
     "text": [
      "True\n"
     ]
    }
   ],
   "source": [
    "print(np.allclose(\n",
    "    np.einsum(\"iae,ejgb,cgk,abcl->ijkl\", trunc_U_T, pure, trunc_U, first_order, optimize=True),\n",
    "    efficient_einsum(trunc_U_T, pure, trunc_U, first_order, mode=\"UD\")\n",
    "))"
   ]
  },
  {
   "cell_type": "code",
   "execution_count": 1,
   "metadata": {},
   "outputs": [],
   "source": [
    "import numpy as np\n",
    "\n",
    "from src.initial_state import get_pure_state\n",
    "from src.dataclass import Model, HOTRG, Input, Mid_Time\n",
    "from src.HOSVD import HOSVD\n",
    "from tensorly.decomposition import tucker\n",
    "\n",
    "mid_time = Mid_Time(create=[], reshape=[], matmul=[],\n",
    "                    decompose=[], truncate=[], total=[])"
   ]
  },
  {
   "cell_type": "code",
   "execution_count": 2,
   "metadata": {},
   "outputs": [
    {
     "name": "stdout",
     "output_type": "stream",
     "text": [
      "(2, 2, 2, 2)\n"
     ]
    }
   ],
   "source": [
    "model = Model(state=2, beta=1.0, magnetic_field=0.0)\n",
    "\n",
    "pure = get_pure_state(model)\n",
    "print(pure.shape)"
   ]
  },
  {
   "cell_type": "code",
   "execution_count": 3,
   "metadata": {},
   "outputs": [
    {
     "name": "stdout",
     "output_type": "stream",
     "text": [
      "(2, 2, 2, 2, 2, 2)\n"
     ]
    }
   ],
   "source": [
    "new_pure = np.einsum(\"abcd,efgb->aefgcd\", pure, pure, optimize=True)\n",
    "print(new_pure.shape)"
   ]
  },
  {
   "cell_type": "code",
   "execution_count": 4,
   "metadata": {},
   "outputs": [
    {
     "name": "stdout",
     "output_type": "stream",
     "text": [
      "[[1976.10007332    0.            0.         1436.86269558]\n",
      " [   0.         1489.47916125 1435.8989914     0.        ]\n",
      " [   0.         1435.8989914  1489.47916125    0.        ]\n",
      " [1436.86269558    0.            0.         1124.09118053]]\n",
      "True\n"
     ]
    }
   ],
   "source": [
    "U, epsilon = HOSVD(new_pure, [3,4], [0,5,1,2], bond=2, mid_time=mid_time)"
   ]
  },
  {
   "cell_type": "code",
   "execution_count": 5,
   "metadata": {},
   "outputs": [
    {
     "name": "stdout",
     "output_type": "stream",
     "text": [
      "[[-0.80132775  0.         -0.         -0.59822558]\n",
      " [ 0.         -0.70710678  0.70710678  0.        ]\n",
      " [ 0.         -0.70710678 -0.70710678  0.        ]\n",
      " [-0.59822558  0.          0.          0.80132775]]\n",
      "104.99164249938042\n",
      "True\n",
      "True\n"
     ]
    }
   ],
   "source": [
    "print(U)\n",
    "print(epsilon)\n",
    "print(np.allclose(np.diag([1.0 for _ in range(4)]), U@U.T))\n",
    "print(np.allclose(np.diag([1.0 for _ in range(4)]), U.T@U))"
   ]
  },
  {
   "cell_type": "code",
   "execution_count": 1,
   "metadata": {},
   "outputs": [
    {
     "name": "stdout",
     "output_type": "stream",
     "text": [
      "['/home/sungbinlee/miniconda3/envs/TRG/lib/python311.zip', '/home/sungbinlee/miniconda3/envs/TRG/lib/python3.11', '/home/sungbinlee/miniconda3/envs/TRG/lib/python3.11/lib-dynload', '/home/sungbinlee/miniconda3/envs/TRG/lib/python3.11/site-packages', '/mnt/d/Research/TN']\n"
     ]
    }
   ],
   "source": [
    "import numpy as np\n",
    "import numpy.typing as npt\n",
    "from typing import Any\n",
    "import matplotlib.pyplot as plt\n",
    "import time\n",
    "import sys\n",
    "\n",
    "from abs_path import abs_path\n",
    "sys.path.append(f\"{abs_path.abs_path}\")\n",
    "del sys.path[0]\n",
    "del sys.path[3]\n",
    "print(sys.path)"
   ]
  },
  {
   "cell_type": "code",
   "execution_count": 2,
   "metadata": {},
   "outputs": [],
   "source": [
    "from HOTRG.src.multiprocessing import multiprocessing\n",
    "from lib.base_function import exact_free_energy"
   ]
  },
  {
   "cell_type": "code",
   "execution_count": 3,
   "metadata": {},
   "outputs": [
    {
     "name": "stdout",
     "output_type": "stream",
     "text": [
      "[0.881   0.86338 0.84576 0.82814 0.81052 0.7929  0.77528 0.75766 0.74004\n",
      " 0.72242 0.7048  0.68718 0.66956 0.65194 0.63432 0.6167  0.59908 0.58146\n",
      " 0.56384 0.54622 0.5286  0.51098 0.49336 0.47574 0.45812 0.4405  0.42288\n",
      " 0.40526 0.38764 0.37002 0.3524  0.33478 0.31716 0.29954 0.28192 0.2643\n",
      " 0.24668 0.22906 0.21144 0.19382 0.1762  0.15858 0.14096 0.12334 0.10572\n",
      " 0.0881  0.07048 0.05286 0.03524 0.01762]\n"
     ]
    }
   ],
   "source": [
    "Datapoint = 50\n",
    "state = 2\n",
    "Kc = np.log(1+np.sqrt(state))*(state-1)/state\n",
    "coupling_max = np.round(2*Kc,3)\n",
    "beta = np.linspace(\n",
    "    start=coupling_max/Datapoint, stop=coupling_max, num=Datapoint)[::-1]\n",
    "magnetic_field = np.full(Datapoint, 0.0)[::-1]\n",
    "print(beta)"
   ]
  },
  {
   "cell_type": "code",
   "execution_count": null,
   "metadata": {},
   "outputs": [],
   "source": [
    "step, Dcut = 20, 12\n",
    "\n",
    "free_energy = multiprocessing(state=state, beta=beta, magnetic_field=magnetic_field, \n",
    "              step=step, Dcut=Dcut, max_workers=2)"
   ]
  }
 ],
 "metadata": {
  "kernelspec": {
   "display_name": "research",
   "language": "python",
   "name": "python3"
  },
  "language_info": {
   "codemirror_mode": {
    "name": "ipython",
    "version": 3
   },
   "file_extension": ".py",
   "mimetype": "text/x-python",
   "name": "python",
   "nbconvert_exporter": "python",
   "pygments_lexer": "ipython3",
   "version": "3.11.4"
  },
  "orig_nbformat": 4
 },
 "nbformat": 4,
 "nbformat_minor": 2
}
