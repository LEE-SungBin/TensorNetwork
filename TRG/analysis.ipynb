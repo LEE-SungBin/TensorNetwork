{
 "cells": [
  {
   "cell_type": "code",
   "execution_count": null,
   "metadata": {},
   "outputs": [],
   "source": [
    "import numpy as np\n",
    "import numpy.typing as npt\n",
    "from typing import Any\n",
    "import matplotlib.pyplot as plt\n",
    "import pandas as pd\n",
    "import sys\n",
    "from pathlib import Path\n",
    "\n",
    "sys.path.append(str(Path(\"..\")))\n",
    "print(sys.path)"
   ]
  },
  {
   "cell_type": "code",
   "execution_count": null,
   "metadata": {},
   "outputs": [],
   "source": [
    "from lib.base_manage_data import load_result, delete_result, delete_all\n",
    "from lib.base_function import (\n",
    "    exact_free_energy, exact_order_parameter,\n",
    "    exact_internal_energy, exact_heat_capacity\n",
    ")"
   ]
  },
  {
   "cell_type": "code",
   "execution_count": null,
   "metadata": {},
   "outputs": [],
   "source": [
    "state = 3\n",
    "if state == 0: Kc = 1.12\n",
    "else: Kc = (state-1)*np.log(1+np.sqrt(state))/state\n",
    "\n",
    "step, Dcut = 20, 24\n",
    "df = load_result(state=state, step=step, Dcut=Dcut)\n",
    "df.columns.values"
   ]
  },
  {
   "cell_type": "code",
   "execution_count": null,
   "metadata": {},
   "outputs": [],
   "source": [
    "df.size/df.columns.values.size"
   ]
  },
  {
   "cell_type": "code",
   "execution_count": null,
   "metadata": {},
   "outputs": [],
   "source": [
    "# delete_all()"
   ]
  },
  {
   "cell_type": "code",
   "execution_count": null,
   "metadata": {},
   "outputs": [],
   "source": [
    "# # delete = df[(df[\"magnetic_field\"] == 0.0)]\n",
    "# delete = df\n",
    "# print(list(delete[\"key\"]))\n",
    "# print(len(list(delete[\"key\"])))"
   ]
  },
  {
   "cell_type": "code",
   "execution_count": null,
   "metadata": {},
   "outputs": [],
   "source": [
    "# delete_result(list(delete[\"key\"]))"
   ]
  },
  {
   "cell_type": "code",
   "execution_count": null,
   "metadata": {},
   "outputs": [],
   "source": [
    "df = df.sort_values(\"beta\", ascending=True)"
   ]
  },
  {
   "cell_type": "code",
   "execution_count": null,
   "metadata": {},
   "outputs": [],
   "source": [
    "fig, ax = plt.subplots()\n",
    "\n",
    "def free_energy(target_step):\n",
    "    free_energy = []\n",
    "    for free in df[\"free_energy\"]:\n",
    "        free_energy.append(free[target_step-1])\n",
    "    return np.array(free_energy)\n",
    "\n",
    "def get_beta(df):\n",
    "    beta = []\n",
    "    for params in df[\"beta\"]:\n",
    "        beta.append(params)\n",
    "    return np.array(beta)\n",
    "\n",
    "beta = get_beta(df)\n",
    "target_step = 20\n",
    "\n",
    "ax.plot(beta, free_energy(target_step), \n",
    "        label=f\"RG step={target_step}, Dcut={Dcut}\")\n",
    "# ax.plot(beta, exact_free_energy(beta), linestyle=\"--\", label=f\"Exact\")\n",
    "# ax.set_yscale(\"log\")\n",
    "ax.set_xlim([0, None])\n",
    "ax.set_ylim([0, None])\n",
    "\n",
    "ax.set_title(rf\"{state}-state 2D potts model\", size=20)\n",
    "ax.set_ylabel(rf\"Free Energy per site $-\\beta f$\", size=12)\n",
    "ax.set_xlabel(rf\"Coupling Parameter $\\beta$\", size=12)\n",
    "ax.axvline(Kc, linestyle=\"--\", color=\"k\", label=rf\"$\\beta_c$={Kc:.3f}\")\n",
    "if state != 0: ax.axhline(np.log(state), linestyle=\"--\", label=rf\"$- \\beta f$ = log({state})\")\n",
    "ax.plot(beta, 2*beta, linestyle=\"--\", label=rf\"$- \\beta f=2\\beta$\")\n",
    "\n",
    "plt.legend()\n",
    "# plt.savefig(f\"./fig/{state}-state Free energy.jpg\")\n",
    "plt.show()"
   ]
  },
  {
   "cell_type": "code",
   "execution_count": null,
   "metadata": {},
   "outputs": [],
   "source": [
    "# fig, ax = plt.subplots()\n",
    "\n",
    "# ax.plot(beta, np.abs((free_energy(\n",
    "#         target_step)-exact_free_energy(beta))/free_energy(target_step)),\n",
    "#         label=f\"RG step={target_step}, Dcut={Dcut}\")\n",
    "# ax.set_yscale(\"log\")\n",
    "# # ax.set_xlim([0, coupling_max])\n",
    "# ax.set_ylim([2e-14, None])\n",
    "\n",
    "# ax.set_title(rf\"{state}-state 2D potts model\", size=20)\n",
    "# ax.set_ylabel(\"Free Energy relative error\", size=12)\n",
    "# ax.set_xlabel(rf\"Coupling Parameter $\\beta$\", size=12)\n",
    "# ax.axvline(Kc, linestyle=\"--\", color=\"k\", label=rf\"$\\beta_c$={Kc:.3f}\")\n",
    "\n",
    "# plt.legend()\n",
    "# # plt.savefig(\"./fig/{state}-state Free energy relative error.jpg\")\n",
    "# plt.show()"
   ]
  },
  {
   "cell_type": "code",
   "execution_count": null,
   "metadata": {},
   "outputs": [],
   "source": [
    "# fig, ax = plt.subplots()\n",
    "\n",
    "# def order_parameter(target_step):\n",
    "#     order_parameter = []\n",
    "#     for value in df[\"order_parameter\"]:\n",
    "#         order_parameter.append(value[target_step-1])\n",
    "    \n",
    "#     return order_parameter\n",
    "\n",
    "# target_step = 20\n",
    "\n",
    "# ax.plot(beta, order_parameter(target_step), \n",
    "#         label=f\"RG step={target_step}, Dcut={Dcut}\")\n",
    "# # ax.plot(beta, exact_order_parameter(beta), linestyle=\"--\", label=f\"Exact\")\n",
    "# # ax.set_yscale(\"log\")\n",
    "# # ax.set_xlim([0, coupling_max])\n",
    "# # ax.set_ylim([0,None])\n",
    "\n",
    "# ax.set_title(rf\"{state}-state 2D potts model\", size=20)\n",
    "# ax.set_ylabel(rf\"Order Parameter per site $<m>$\", size=12)\n",
    "# ax.set_xlabel(rf\"Coupling Parameter $\\beta$\", size=12)\n",
    "# ax.axvline(Kc, linestyle=\"--\", color=\"k\", label=rf\"$\\beta_c$={Kc:.3f}\")\n",
    "# # ax.axhline(np.log(state), linestyle=\"--\", label=rf\"$- \\beta f$ = log({state})\")\n",
    "# # ax.plot(beta, 2*beta, linestyle=\"--\", label=rf\"$- \\beta f=2\\beta$\")\n",
    "\n",
    "# plt.legend()\n",
    "# # plt.savefig(f\"./fig/{state}-state Order parameter.jpg\")\n",
    "# plt.show()"
   ]
  },
  {
   "cell_type": "code",
   "execution_count": null,
   "metadata": {},
   "outputs": [],
   "source": [
    "fig, ax = plt.subplots()\n",
    "\n",
    "target_step = 20\n",
    "\n",
    "hamiltonian = -np.gradient(free_energy(target_step), beta, edge_order=2)\n",
    "\n",
    "ax.plot(beta, hamiltonian, \n",
    "        label=f\"RG step={target_step}, Dcut={Dcut}\")\n",
    "# ax.plot(beta, exact_internal_energy(beta), linestyle=\"--\", label=f\"Exact\")\n",
    "# ax.set_yscale(\"log\")\n",
    "ax.set_xlim([0, None])\n",
    "# ax.set_ylim([-2,None])\n",
    "\n",
    "ax.set_title(rf\"{state}-state 2D potts model\", size=20)\n",
    "ax.set_ylabel(rf\"Hamiltonian\", size=12)\n",
    "ax.set_xlabel(rf\"Coupling Parameter $\\beta$\", size=12)\n",
    "ax.axvline(Kc, linestyle=\"--\", color=\"k\", label=rf\"$\\beta_c$={Kc:.3f}\")\n",
    "\n",
    "plt.legend()\n",
    "# plt.savefig(f\"./fig/{state}-state Free energy.jpg\")\n",
    "plt.show()"
   ]
  },
  {
   "cell_type": "code",
   "execution_count": null,
   "metadata": {},
   "outputs": [],
   "source": [
    "fig, ax = plt.subplots()\n",
    "\n",
    "heat_capacity = -np.gradient(hamiltonian, beta, edge_order=2) * beta**2\n",
    "\n",
    "ax.plot(beta, heat_capacity, \n",
    "        label=f\"RG step={target_step}, Dcut={Dcut}\")\n",
    "# ax.plot(beta, exact_heat_capacity(beta), linestyle=\"--\", label=f\"Exact\")\n",
    "# ax.set_yscale(\"log\")\n",
    "ax.set_xlim([0, None])\n",
    "ax.set_ylim([0, None])\n",
    "\n",
    "ax.set_title(rf\"{state}-state 2D potts model\", size=20)\n",
    "ax.set_ylabel(rf\"Heat Capacity\", size=12)\n",
    "ax.set_xlabel(rf\"Coupling Parameter $\\beta$\", size=12)\n",
    "ax.axvline(Kc, linestyle=\"--\", color=\"k\", label=rf\"$\\beta_c$={Kc:.3f}\")\n",
    "\n",
    "plt.legend()\n",
    "# plt.savefig(f\"./fig/{state}-state Free energy.jpg\")\n",
    "plt.show()"
   ]
  },
  {
   "cell_type": "code",
   "execution_count": null,
   "metadata": {},
   "outputs": [],
   "source": []
  }
 ],
 "metadata": {
  "kernelspec": {
   "display_name": "TRG",
   "language": "python",
   "name": "python3"
  },
  "language_info": {
   "codemirror_mode": {
    "name": "ipython",
    "version": 3
   },
   "file_extension": ".py",
   "mimetype": "text/x-python",
   "name": "python",
   "nbconvert_exporter": "python",
   "pygments_lexer": "ipython3",
   "version": "3.11.4"
  },
  "orig_nbformat": 4
 },
 "nbformat": 4,
 "nbformat_minor": 2
}
